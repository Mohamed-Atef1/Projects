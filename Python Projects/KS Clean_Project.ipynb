{
 "cells": [
  {
   "cell_type": "code",
   "execution_count": 2,
   "id": "7a59afb3",
   "metadata": {},
   "outputs": [],
   "source": [
    "import pandas as pd"
   ]
  },
  {
   "cell_type": "markdown",
   "id": "a9846339",
   "metadata": {},
   "source": [
    "# data of file 2016"
   ]
  },
  {
   "cell_type": "markdown",
   "id": "3e95b5b0",
   "metadata": {},
   "source": [
    "#### reading data and rename shifted columns"
   ]
  },
  {
   "cell_type": "code",
   "execution_count": 25,
   "id": "1109c8fc",
   "metadata": {},
   "outputs": [
    {
     "name": "stderr",
     "output_type": "stream",
     "text": [
      "C:\\Users\\M .ATEF\\AppData\\Local\\Temp\\ipykernel_14176\\3030458219.py:1: DtypeWarning: Columns (13,14,15) have mixed types. Specify dtype option on import or set low_memory=False.\n",
      "  df = pd.read_csv(r\"D:\\mohamed\\archive\\ks-projects-201612(مشروع من النت).csv\")\n"
     ]
    },
    {
     "data": {
      "text/plain": [
       "(323750, 17)"
      ]
     },
     "execution_count": 25,
     "metadata": {},
     "output_type": "execute_result"
    }
   ],
   "source": [
    "df = pd.read_csv(r\"D:\\mohamed\\archive\\ks-projects-201612(مشروع من النت).csv\")\n",
    "\n",
    "df.rename(columns ={'ID ' : 'id' , 'Unnamed: 14' : 'shitted_col2' , 'Unnamed: 13' : 'shitted_col1'\n",
    "                   , 'Unnamed: 15' : 'shitted_col3' , 'Unnamed: 16' : 'shitted_col4'}  , inplace=True)\n",
    "df.shape"
   ]
  },
  {
   "cell_type": "markdown",
   "id": "192b7092",
   "metadata": {},
   "source": [
    "#### making subset of unshifted data "
   ]
  },
  {
   "cell_type": "code",
   "execution_count": 4,
   "id": "ca4db651",
   "metadata": {},
   "outputs": [],
   "source": [
    "cleaned_df =  df[df['shitted_col1'].isnull()]\n",
    "\n",
    "cleaned_df.loc[cleaned_df['usd pledged '].isnull(), ['country ', 'usd pledged ']] = ['NO', 0]\n",
    "\n",
    "cleaned_df = cleaned_df.drop(['shitted_col2','shitted_col1','shitted_col3','shitted_col4'],axis = 1)\n"
   ]
  },
  {
   "cell_type": "markdown",
   "id": "e973f2a0",
   "metadata": {},
   "source": [
    "#### function for updatting shifted data "
   ]
  },
  {
   "cell_type": "code",
   "execution_count": 5,
   "id": "f94a2e17",
   "metadata": {
    "scrolled": false
   },
   "outputs": [],
   "source": [
    "def updatting_date(df) :\n",
    "    shiffted_df = df[df['shitted_col1'].notnull()]\n",
    "    \n",
    "    shiffted_df.columns = map(str.upper, shiffted_df.columns)\n",
    "    columns = list(shiffted_df.columns)\n",
    "    cols_merged = list(map(str.lower, columns[:-1]))\n",
    "    columns.remove('CATEGORY ')\n",
    "    \n",
    "    return shiffted_df , columns , cols_merged\n",
    "\n",
    "shiffted_df , columns , cols_merged = updatting_date(df)"
   ]
  },
  {
   "cell_type": "markdown",
   "id": "135a5256",
   "metadata": {},
   "source": [
    "#### function to merge columns which separated wrongly"
   ]
  },
  {
   "cell_type": "code",
   "execution_count": 6,
   "id": "14f170f8",
   "metadata": {},
   "outputs": [
    {
     "name": "stderr",
     "output_type": "stream",
     "text": [
      "C:\\Users\\M .ATEF\\AppData\\Local\\Temp\\ipykernel_14176\\3305884801.py:5: SettingWithCopyWarning: \n",
      "A value is trying to be set on a copy of a slice from a DataFrame.\n",
      "Try using .loc[row_indexer,col_indexer] = value instead\n",
      "\n",
      "See the caveats in the documentation: https://pandas.pydata.org/pandas-docs/stable/user_guide/indexing.html#returning-a-view-versus-a-copy\n",
      "  df.loc[:, 'blank'] = df[list1[0]]\n"
     ]
    }
   ],
   "source": [
    "def merge_function(df , pos , list1 ) :\n",
    "    \n",
    "    new_order = list(df.columns)\n",
    "        \n",
    "    df.loc[:, 'blank'] = df[list1[0]]\n",
    "\n",
    "    for col in list1[1: ]:\n",
    "        df.loc[: ,'blank'] += ' ' + df[col].astype(str)\n",
    "    \n",
    "    [df.pop(x) for x in list1]\n",
    "    [new_order.remove(x) for x in list1]\n",
    "\n",
    "    new_order.insert(pos-1 , 'blank')\n",
    "    \n",
    "    df = df[new_order]\n",
    "    \n",
    "    df = df.rename(columns={'blank' : 'NAME '})\n",
    "    \n",
    "    df['NAME '] = df['NAME '].str.strip()\n",
    "    \n",
    "        \n",
    "    return df\n",
    "\n",
    "shiffted_df = merge_function(shiffted_df , 2 , ['NAME ' , 'CATEGORY '])\n",
    "\n"
   ]
  },
  {
   "cell_type": "markdown",
   "id": "8ccabcd4",
   "metadata": {},
   "source": [
    "#### function to shift columns left"
   ]
  },
  {
   "cell_type": "code",
   "execution_count": 7,
   "id": "44c591d3",
   "metadata": {},
   "outputs": [],
   "source": [
    "def shifting(df , cols_merged , columns):\n",
    "    for i in range(len(cols_merged)):\n",
    "        df = df.rename(columns = {columns[i] : cols_merged[i] })\n",
    "    return df\n",
    "        \n",
    "shiffted_df = shifting(shiffted_df , cols_merged , columns)"
   ]
  },
  {
   "cell_type": "markdown",
   "id": "19acc5fb",
   "metadata": {},
   "source": [
    "#### function to append the clean data "
   ]
  },
  {
   "cell_type": "code",
   "execution_count": 8,
   "id": "bf1a1706",
   "metadata": {},
   "outputs": [],
   "source": [
    "def append_frames(cleaned_df , frame):\n",
    "    if 'shitted_col1' in frame.columns:\n",
    "        frame = frame.loc[frame['shitted_col1'].isnull()]\n",
    "    cleaned_df = pd.concat([frame , cleaned_df])\n",
    "    return cleaned_df\n",
    "\n",
    "frame = shiffted_df\n",
    "cleaned_df = append_frames(cleaned_df , frame)"
   ]
  },
  {
   "cell_type": "code",
   "execution_count": 9,
   "id": "27f9d36c",
   "metadata": {},
   "outputs": [
    {
     "name": "stderr",
     "output_type": "stream",
     "text": [
      "C:\\Users\\M .ATEF\\AppData\\Local\\Temp\\ipykernel_14176\\3305884801.py:5: SettingWithCopyWarning: \n",
      "A value is trying to be set on a copy of a slice from a DataFrame.\n",
      "Try using .loc[row_indexer,col_indexer] = value instead\n",
      "\n",
      "See the caveats in the documentation: https://pandas.pydata.org/pandas-docs/stable/user_guide/indexing.html#returning-a-view-versus-a-copy\n",
      "  df.loc[:, 'blank'] = df[list1[0]]\n",
      "C:\\Users\\M .ATEF\\AppData\\Local\\Temp\\ipykernel_14176\\3305884801.py:5: SettingWithCopyWarning: \n",
      "A value is trying to be set on a copy of a slice from a DataFrame.\n",
      "Try using .loc[row_indexer,col_indexer] = value instead\n",
      "\n",
      "See the caveats in the documentation: https://pandas.pydata.org/pandas-docs/stable/user_guide/indexing.html#returning-a-view-versus-a-copy\n",
      "  df.loc[:, 'blank'] = df[list1[0]]\n",
      "C:\\Users\\M .ATEF\\AppData\\Local\\Temp\\ipykernel_14176\\3305884801.py:5: SettingWithCopyWarning: \n",
      "A value is trying to be set on a copy of a slice from a DataFrame.\n",
      "Try using .loc[row_indexer,col_indexer] = value instead\n",
      "\n",
      "See the caveats in the documentation: https://pandas.pydata.org/pandas-docs/stable/user_guide/indexing.html#returning-a-view-versus-a-copy\n",
      "  df.loc[:, 'blank'] = df[list1[0]]\n"
     ]
    }
   ],
   "source": [
    "for i in range(3):\n",
    "    shiffted_df , columns , cols_merged = updatting_date(shiffted_df)\n",
    "    shiffted_df = merge_function(shiffted_df , 2 , ['NAME ' , 'CATEGORY '])\n",
    "    shiffted_df = shifting(shiffted_df , cols_merged , columns)\n",
    "    frame = shiffted_df\n",
    "    cleaned_df = append_frames(cleaned_df , frame)\n",
    "    \n",
    "cleaned_df = cleaned_df.drop(['shitted_col2','shitted_col1','shitted_col3'] , axis = 1)"
   ]
  },
  {
   "cell_type": "markdown",
   "id": "0ab09bf7",
   "metadata": {},
   "source": [
    "#### find duplicated values"
   ]
  },
  {
   "cell_type": "code",
   "execution_count": 10,
   "id": "cdf99ae4",
   "metadata": {
    "scrolled": true
   },
   "outputs": [
    {
     "data": {
      "text/plain": [
       "0"
      ]
     },
     "execution_count": 10,
     "metadata": {},
     "output_type": "execute_result"
    }
   ],
   "source": [
    "cleaned_df['id'].duplicated().sum()"
   ]
  },
  {
   "cell_type": "markdown",
   "id": "4eb14fcb",
   "metadata": {},
   "source": [
    "#### trim columns' header , make all countries' ISO upper case to avoid inconsistency"
   ]
  },
  {
   "cell_type": "code",
   "execution_count": 11,
   "id": "a96cd800",
   "metadata": {},
   "outputs": [],
   "source": [
    "cleaned_df.columns = cleaned_df.columns.str.strip()\n",
    "cleaned_df['country'] = cleaned_df['country'].apply(str.upper)"
   ]
  },
  {
   "cell_type": "markdown",
   "id": "056081b9",
   "metadata": {},
   "source": [
    "#### Check for shifted data"
   ]
  },
  {
   "cell_type": "code",
   "execution_count": 12,
   "id": "61c20ac1",
   "metadata": {},
   "outputs": [
    {
     "data": {
      "text/plain": [
       "currency      country\n",
       "AUD           AU           6251\n",
       "              NO            111\n",
       "CAD           CA          12008\n",
       "              NO            205\n",
       "CHF           CH            471\n",
       "              NO              7\n",
       "DKK           DK            825\n",
       "              NO             16\n",
       "EUR           AT            377\n",
       "              BE            402\n",
       "              DE           2685\n",
       "              ES           1373\n",
       "              FR           1912\n",
       "              IE            576\n",
       "              IT           1751\n",
       "              LU             40\n",
       "              NL           2265\n",
       "              NO            186\n",
       "Film & Video  0               3\n",
       "GBP           GB          27573\n",
       "              NO            459\n",
       "HKD           HK             97\n",
       "MXN           MX            214\n",
       "Music         0               4\n",
       "NOK           NO            540\n",
       "NZD           NO             28\n",
       "              NZ           1137\n",
       "SEK           NO             31\n",
       "              SE           1271\n",
       "SGD           SG            120\n",
       "USD           NO           2733\n",
       "              US         258079\n",
       "Name: goal, dtype: int64"
      ]
     },
     "execution_count": 12,
     "metadata": {},
     "output_type": "execute_result"
    }
   ],
   "source": [
    "cleaned_df.groupby(['currency' , 'country'])['goal'].count()"
   ]
  },
  {
   "cell_type": "code",
   "execution_count": 13,
   "id": "7e8a170c",
   "metadata": {},
   "outputs": [],
   "source": [
    "sd = cleaned_df.copy()\n",
    "\n",
    "shitted_data = sd.loc[sd['country']== '0' ]\n",
    "\n",
    "cols_merged = shitted_data.columns.str.lower()"
   ]
  },
  {
   "cell_type": "code",
   "execution_count": 14,
   "id": "28c53abf",
   "metadata": {
    "scrolled": true
   },
   "outputs": [
    {
     "name": "stderr",
     "output_type": "stream",
     "text": [
      "C:\\Users\\M .ATEF\\AppData\\Local\\Temp\\ipykernel_14176\\3305884801.py:5: SettingWithCopyWarning: \n",
      "A value is trying to be set on a copy of a slice from a DataFrame.\n",
      "Try using .loc[row_indexer,col_indexer] = value instead\n",
      "\n",
      "See the caveats in the documentation: https://pandas.pydata.org/pandas-docs/stable/user_guide/indexing.html#returning-a-view-versus-a-copy\n",
      "  df.loc[:, 'blank'] = df[list1[0]]\n"
     ]
    },
    {
     "data": {
      "text/html": [
       "<div>\n",
       "<style scoped>\n",
       "    .dataframe tbody tr th:only-of-type {\n",
       "        vertical-align: middle;\n",
       "    }\n",
       "\n",
       "    .dataframe tbody tr th {\n",
       "        vertical-align: top;\n",
       "    }\n",
       "\n",
       "    .dataframe thead th {\n",
       "        text-align: right;\n",
       "    }\n",
       "</style>\n",
       "<table border=\"1\" class=\"dataframe\">\n",
       "  <thead>\n",
       "    <tr style=\"text-align: right;\">\n",
       "      <th></th>\n",
       "      <th>ID</th>\n",
       "      <th>NAME</th>\n",
       "      <th>MAIN_CATEGORY</th>\n",
       "      <th>CURRENCY</th>\n",
       "      <th>DEADLINE</th>\n",
       "      <th>GOAL</th>\n",
       "      <th>LAUNCHED</th>\n",
       "      <th>PLEDGED</th>\n",
       "      <th>STATE</th>\n",
       "      <th>BACKERS</th>\n",
       "      <th>COUNTRY</th>\n",
       "      <th>USD PLEDGED</th>\n",
       "    </tr>\n",
       "  </thead>\n",
       "  <tbody>\n",
       "    <tr>\n",
       "      <th>64484</th>\n",
       "      <td>1383759393</td>\n",
       "      <td>CD: Heartsong Harmonics  Marc &amp; Mary sing toge...</td>\n",
       "      <td>Music</td>\n",
       "      <td>Music</td>\n",
       "      <td>USD</td>\n",
       "      <td>11/3/2015 0:59</td>\n",
       "      <td>7085</td>\n",
       "      <td>9/14/2015 23:55</td>\n",
       "      <td>7470</td>\n",
       "      <td>undefined</td>\n",
       "      <td>0</td>\n",
       "      <td>N,\"0</td>\n",
       "    </tr>\n",
       "  </tbody>\n",
       "</table>\n",
       "</div>"
      ],
      "text/plain": [
       "               ID                                              NAME   \\\n",
       "64484  1383759393  CD: Heartsong Harmonics  Marc & Mary sing toge...   \n",
       "\n",
       "      MAIN_CATEGORY CURRENCY DEADLINE            GOAL LAUNCHED  \\\n",
       "64484         Music    Music      USD  11/3/2015 0:59     7085   \n",
       "\n",
       "               PLEDGED STATE    BACKERS COUNTRY USD PLEDGED  \n",
       "64484  9/14/2015 23:55  7470  undefined       0        N,\"0  "
      ]
     },
     "execution_count": 14,
     "metadata": {},
     "output_type": "execute_result"
    }
   ],
   "source": [
    "shitted_data = merge_function(shitted_data , 2 , ['name' , 'category'])\n",
    "shitted_data.columns = shitted_data.columns.str.upper()\n",
    "shitted_data.head(1)"
   ]
  },
  {
   "cell_type": "code",
   "execution_count": 15,
   "id": "ab88b37f",
   "metadata": {
    "scrolled": true
   },
   "outputs": [
    {
     "data": {
      "text/html": [
       "<div>\n",
       "<style scoped>\n",
       "    .dataframe tbody tr th:only-of-type {\n",
       "        vertical-align: middle;\n",
       "    }\n",
       "\n",
       "    .dataframe tbody tr th {\n",
       "        vertical-align: top;\n",
       "    }\n",
       "\n",
       "    .dataframe thead th {\n",
       "        text-align: right;\n",
       "    }\n",
       "</style>\n",
       "<table border=\"1\" class=\"dataframe\">\n",
       "  <thead>\n",
       "    <tr style=\"text-align: right;\">\n",
       "      <th></th>\n",
       "      <th>id</th>\n",
       "      <th>name</th>\n",
       "      <th>category</th>\n",
       "      <th>main_category</th>\n",
       "      <th>currency</th>\n",
       "      <th>deadline</th>\n",
       "      <th>goal</th>\n",
       "      <th>launched</th>\n",
       "      <th>pledged</th>\n",
       "      <th>state</th>\n",
       "      <th>backers</th>\n",
       "      <th>country</th>\n",
       "      <th>usd pledged</th>\n",
       "    </tr>\n",
       "  </thead>\n",
       "  <tbody>\n",
       "    <tr>\n",
       "      <th>64484</th>\n",
       "      <td>1383759393</td>\n",
       "      <td>CD: Heartsong Harmonics  Marc &amp; Mary sing toge...</td>\n",
       "      <td>Music</td>\n",
       "      <td>Music</td>\n",
       "      <td>USD</td>\n",
       "      <td>11/3/2015 0:59</td>\n",
       "      <td>7085</td>\n",
       "      <td>9/14/2015 23:55</td>\n",
       "      <td>7470</td>\n",
       "      <td>undefined</td>\n",
       "      <td>0</td>\n",
       "      <td>N,\"0</td>\n",
       "      <td>-</td>\n",
       "    </tr>\n",
       "  </tbody>\n",
       "</table>\n",
       "</div>"
      ],
      "text/plain": [
       "               id                                               name category  \\\n",
       "64484  1383759393  CD: Heartsong Harmonics  Marc & Mary sing toge...    Music   \n",
       "\n",
       "      main_category currency        deadline  goal         launched pledged  \\\n",
       "64484         Music      USD  11/3/2015 0:59  7085  9/14/2015 23:55    7470   \n",
       "\n",
       "           state backers country usd pledged  \n",
       "64484  undefined       0    N,\"0           -  "
      ]
     },
     "execution_count": 15,
     "metadata": {},
     "output_type": "execute_result"
    }
   ],
   "source": [
    "# cols_merged\n",
    "shitted_data['blank'] = '-'\n",
    "\n",
    "columns = shitted_data.columns\n",
    "\n",
    "for i in range(len(cols_merged)):\n",
    "    shitted_data = shitted_data.rename(columns = {columns[i] : cols_merged[i] })\n",
    "\n",
    "shitted_data.head(1)"
   ]
  },
  {
   "cell_type": "code",
   "execution_count": 16,
   "id": "03b1bbf1",
   "metadata": {},
   "outputs": [
    {
     "data": {
      "text/plain": [
       "(323743, 13)"
      ]
     },
     "execution_count": 16,
     "metadata": {},
     "output_type": "execute_result"
    }
   ],
   "source": [
    "sd = sd[sd['country'] != '0']\n",
    "sd.shape"
   ]
  },
  {
   "cell_type": "code",
   "execution_count": 17,
   "id": "19844392",
   "metadata": {
    "scrolled": true
   },
   "outputs": [
    {
     "data": {
      "text/plain": [
       "(323750, 13)"
      ]
     },
     "execution_count": 17,
     "metadata": {},
     "output_type": "execute_result"
    }
   ],
   "source": [
    "sd = pd.concat([sd, shitted_data])\n",
    "sd.shape"
   ]
  },
  {
   "cell_type": "code",
   "execution_count": 18,
   "id": "ec671ee5",
   "metadata": {},
   "outputs": [],
   "source": [
    "sd.loc[sd['usd pledged']=='-', ['country', 'usd pledged']] = ['NO', 0]\n",
    "cleaned_df = sd"
   ]
  },
  {
   "cell_type": "markdown",
   "id": "45e69463",
   "metadata": {},
   "source": [
    "#### find null values"
   ]
  },
  {
   "cell_type": "code",
   "execution_count": 19,
   "id": "fabec232",
   "metadata": {
    "scrolled": true
   },
   "outputs": [
    {
     "name": "stdout",
     "output_type": "stream",
     "text": [
      "<class 'pandas.core.frame.DataFrame'>\n",
      "Index: 323750 entries, 269970 to 177636\n",
      "Data columns (total 13 columns):\n",
      " #   Column         Non-Null Count   Dtype \n",
      "---  ------         --------------   ----- \n",
      " 0   id             323750 non-null  int64 \n",
      " 1   name           323746 non-null  object\n",
      " 2   category       323750 non-null  object\n",
      " 3   main_category  323750 non-null  object\n",
      " 4   currency       323750 non-null  object\n",
      " 5   deadline       323750 non-null  object\n",
      " 6   goal           323750 non-null  object\n",
      " 7   launched       323750 non-null  object\n",
      " 8   pledged        323750 non-null  object\n",
      " 9   state          323750 non-null  object\n",
      " 10  backers        323750 non-null  object\n",
      " 11  country        323750 non-null  object\n",
      " 12  usd pledged    323750 non-null  object\n",
      "dtypes: int64(1), object(12)\n",
      "memory usage: 34.6+ MB\n"
     ]
    }
   ],
   "source": [
    "cleaned_df.info()"
   ]
  },
  {
   "cell_type": "code",
   "execution_count": 20,
   "id": "2c4c72f9",
   "metadata": {
    "scrolled": true
   },
   "outputs": [
    {
     "data": {
      "text/html": [
       "<div>\n",
       "<style scoped>\n",
       "    .dataframe tbody tr th:only-of-type {\n",
       "        vertical-align: middle;\n",
       "    }\n",
       "\n",
       "    .dataframe tbody tr th {\n",
       "        vertical-align: top;\n",
       "    }\n",
       "\n",
       "    .dataframe thead th {\n",
       "        text-align: right;\n",
       "    }\n",
       "</style>\n",
       "<table border=\"1\" class=\"dataframe\">\n",
       "  <thead>\n",
       "    <tr style=\"text-align: right;\">\n",
       "      <th></th>\n",
       "      <th>id</th>\n",
       "      <th>name</th>\n",
       "      <th>category</th>\n",
       "      <th>main_category</th>\n",
       "      <th>currency</th>\n",
       "      <th>deadline</th>\n",
       "      <th>goal</th>\n",
       "      <th>launched</th>\n",
       "      <th>pledged</th>\n",
       "      <th>state</th>\n",
       "      <th>backers</th>\n",
       "      <th>country</th>\n",
       "      <th>usd pledged</th>\n",
       "    </tr>\n",
       "  </thead>\n",
       "  <tbody>\n",
       "    <tr>\n",
       "      <th>142830</th>\n",
       "      <td>1848699072</td>\n",
       "      <td>NaN</td>\n",
       "      <td>Narrative Film</td>\n",
       "      <td>Film &amp; Video</td>\n",
       "      <td>USD</td>\n",
       "      <td>2/29/2012 15:04</td>\n",
       "      <td>200000</td>\n",
       "      <td>1/1/2012 12:35</td>\n",
       "      <td>100</td>\n",
       "      <td>failed</td>\n",
       "      <td>1</td>\n",
       "      <td>US</td>\n",
       "      <td>100</td>\n",
       "    </tr>\n",
       "    <tr>\n",
       "      <th>262901</th>\n",
       "      <td>634871725</td>\n",
       "      <td>NaN</td>\n",
       "      <td>Video Games</td>\n",
       "      <td>Games</td>\n",
       "      <td>GBP</td>\n",
       "      <td>1/6/2013 23:00</td>\n",
       "      <td>2000</td>\n",
       "      <td>12/19/2012 23:57</td>\n",
       "      <td>196</td>\n",
       "      <td>failed</td>\n",
       "      <td>12</td>\n",
       "      <td>GB</td>\n",
       "      <td>317.7284362</td>\n",
       "    </tr>\n",
       "    <tr>\n",
       "      <th>265251</th>\n",
       "      <td>648853978</td>\n",
       "      <td>NaN</td>\n",
       "      <td>Product Design</td>\n",
       "      <td>Design</td>\n",
       "      <td>USD</td>\n",
       "      <td>7/18/2016 5:01</td>\n",
       "      <td>2500</td>\n",
       "      <td>6/18/2016 5:01</td>\n",
       "      <td>0</td>\n",
       "      <td>suspended</td>\n",
       "      <td>0</td>\n",
       "      <td>US</td>\n",
       "      <td>0</td>\n",
       "    </tr>\n",
       "    <tr>\n",
       "      <th>289847</th>\n",
       "      <td>796533179</td>\n",
       "      <td>NaN</td>\n",
       "      <td>Painting</td>\n",
       "      <td>Art</td>\n",
       "      <td>USD</td>\n",
       "      <td>12/5/2011 5:59</td>\n",
       "      <td>35000</td>\n",
       "      <td>11/6/2011 23:55</td>\n",
       "      <td>220</td>\n",
       "      <td>failed</td>\n",
       "      <td>5</td>\n",
       "      <td>US</td>\n",
       "      <td>220</td>\n",
       "    </tr>\n",
       "  </tbody>\n",
       "</table>\n",
       "</div>"
      ],
      "text/plain": [
       "                id name        category main_category currency  \\\n",
       "142830  1848699072  NaN  Narrative Film  Film & Video      USD   \n",
       "262901   634871725  NaN     Video Games         Games      GBP   \n",
       "265251   648853978  NaN  Product Design        Design      USD   \n",
       "289847   796533179  NaN        Painting           Art      USD   \n",
       "\n",
       "               deadline    goal          launched pledged      state backers  \\\n",
       "142830  2/29/2012 15:04  200000    1/1/2012 12:35     100     failed       1   \n",
       "262901   1/6/2013 23:00    2000  12/19/2012 23:57     196     failed      12   \n",
       "265251   7/18/2016 5:01    2500    6/18/2016 5:01       0  suspended       0   \n",
       "289847   12/5/2011 5:59   35000   11/6/2011 23:55     220     failed       5   \n",
       "\n",
       "       country  usd pledged  \n",
       "142830      US          100  \n",
       "262901      GB  317.7284362  \n",
       "265251      US            0  \n",
       "289847      US          220  "
      ]
     },
     "execution_count": 20,
     "metadata": {},
     "output_type": "execute_result"
    }
   ],
   "source": [
    "cleaned_df[cleaned_df['name'].isnull()]"
   ]
  },
  {
   "cell_type": "code",
   "execution_count": 21,
   "id": "e8b8f1da",
   "metadata": {
    "scrolled": false
   },
   "outputs": [
    {
     "data": {
      "text/plain": [
       "(323746, 13)"
      ]
     },
     "execution_count": 21,
     "metadata": {},
     "output_type": "execute_result"
    }
   ],
   "source": [
    "cleaned_df = cleaned_df[cleaned_df['name'].notnull()]\n",
    "cleaned_df.shape"
   ]
  },
  {
   "cell_type": "code",
   "execution_count": 22,
   "id": "78fb4835",
   "metadata": {
    "scrolled": true
   },
   "outputs": [
    {
     "name": "stderr",
     "output_type": "stream",
     "text": [
      "C:\\Users\\M .ATEF\\AppData\\Local\\Temp\\ipykernel_14176\\1998756166.py:1: SettingWithCopyWarning: \n",
      "A value is trying to be set on a copy of a slice from a DataFrame.\n",
      "Try using .loc[row_indexer,col_indexer] = value instead\n",
      "\n",
      "See the caveats in the documentation: https://pandas.pydata.org/pandas-docs/stable/user_guide/indexing.html#returning-a-view-versus-a-copy\n",
      "  cleaned_df['source'] = 'ks 2016'\n"
     ]
    },
    {
     "name": "stdout",
     "output_type": "stream",
     "text": [
      "<class 'pandas.core.frame.DataFrame'>\n",
      "Index: 323746 entries, 269970 to 177636\n",
      "Data columns (total 14 columns):\n",
      " #   Column         Non-Null Count   Dtype \n",
      "---  ------         --------------   ----- \n",
      " 0   id             323746 non-null  int64 \n",
      " 1   name           323746 non-null  object\n",
      " 2   category       323746 non-null  object\n",
      " 3   main_category  323746 non-null  object\n",
      " 4   currency       323746 non-null  object\n",
      " 5   deadline       323746 non-null  object\n",
      " 6   goal           323746 non-null  object\n",
      " 7   launched       323746 non-null  object\n",
      " 8   pledged        323746 non-null  object\n",
      " 9   state          323746 non-null  object\n",
      " 10  backers        323746 non-null  object\n",
      " 11  country        323746 non-null  object\n",
      " 12  usd pledged    323746 non-null  object\n",
      " 13  source         323746 non-null  object\n",
      "dtypes: int64(1), object(13)\n",
      "memory usage: 37.0+ MB\n"
     ]
    }
   ],
   "source": [
    "cleaned_df['source'] = 'ks 2016'\n",
    "cleaned_df.info()"
   ]
  },
  {
   "cell_type": "code",
   "execution_count": 23,
   "id": "88d29a9c",
   "metadata": {},
   "outputs": [
    {
     "name": "stderr",
     "output_type": "stream",
     "text": [
      "C:\\Users\\M .ATEF\\AppData\\Local\\Temp\\ipykernel_14176\\3628077244.py:1: SettingWithCopyWarning: \n",
      "A value is trying to be set on a copy of a slice from a DataFrame.\n",
      "Try using .loc[row_indexer,col_indexer] = value instead\n",
      "\n",
      "See the caveats in the documentation: https://pandas.pydata.org/pandas-docs/stable/user_guide/indexing.html#returning-a-view-versus-a-copy\n",
      "  cleaned_df[['goal' , 'pledged' , 'backers' , 'usd pledged']] = cleaned_df[['goal' , 'pledged' , 'backers' , 'usd pledged']].astype(float)\n"
     ]
    }
   ],
   "source": [
    "cleaned_df[['goal' , 'pledged' , 'backers' , 'usd pledged']] = cleaned_df[['goal' , 'pledged' , 'backers' , 'usd pledged']].astype(float)"
   ]
  },
  {
   "cell_type": "markdown",
   "id": "55b720e3",
   "metadata": {},
   "source": [
    "==================================================================================="
   ]
  },
  {
   "cell_type": "markdown",
   "id": "cdfc5d98",
   "metadata": {},
   "source": [
    "# data of file 2018"
   ]
  },
  {
   "cell_type": "code",
   "execution_count": 26,
   "id": "40df0bb7",
   "metadata": {},
   "outputs": [
    {
     "data": {
      "text/plain": [
       "(378661, 15)"
      ]
     },
     "execution_count": 26,
     "metadata": {},
     "output_type": "execute_result"
    }
   ],
   "source": [
    "ks_2018 = pd.read_csv(r\"D:\\mohamed\\archive\\ks-projects-201801)مشروع من النت).csv\")\n",
    "ks_2018.shape"
   ]
  },
  {
   "cell_type": "markdown",
   "id": "1e2ea07b",
   "metadata": {},
   "source": [
    "#### find null values"
   ]
  },
  {
   "cell_type": "code",
   "execution_count": 27,
   "id": "cd20f8b3",
   "metadata": {
    "scrolled": true
   },
   "outputs": [
    {
     "name": "stdout",
     "output_type": "stream",
     "text": [
      "<class 'pandas.core.frame.DataFrame'>\n",
      "RangeIndex: 378661 entries, 0 to 378660\n",
      "Data columns (total 15 columns):\n",
      " #   Column            Non-Null Count   Dtype  \n",
      "---  ------            --------------   -----  \n",
      " 0   ID                378661 non-null  int64  \n",
      " 1   name              378657 non-null  object \n",
      " 2   category          378661 non-null  object \n",
      " 3   main_category     378661 non-null  object \n",
      " 4   currency          378661 non-null  object \n",
      " 5   deadline          378661 non-null  object \n",
      " 6   goal              378661 non-null  float64\n",
      " 7   launched          378661 non-null  object \n",
      " 8   pledged           378661 non-null  float64\n",
      " 9   state             378661 non-null  object \n",
      " 10  backers           378661 non-null  int64  \n",
      " 11  country           378661 non-null  object \n",
      " 12  usd pledged       374864 non-null  float64\n",
      " 13  usd_pledged_real  378661 non-null  float64\n",
      " 14  usd_goal_real     378661 non-null  float64\n",
      "dtypes: float64(5), int64(2), object(8)\n",
      "memory usage: 43.3+ MB\n"
     ]
    }
   ],
   "source": [
    "ks_2018.info()"
   ]
  },
  {
   "cell_type": "code",
   "execution_count": 28,
   "id": "e7f59e72",
   "metadata": {
    "scrolled": true
   },
   "outputs": [
    {
     "data": {
      "text/html": [
       "<div>\n",
       "<style scoped>\n",
       "    .dataframe tbody tr th:only-of-type {\n",
       "        vertical-align: middle;\n",
       "    }\n",
       "\n",
       "    .dataframe tbody tr th {\n",
       "        vertical-align: top;\n",
       "    }\n",
       "\n",
       "    .dataframe thead th {\n",
       "        text-align: right;\n",
       "    }\n",
       "</style>\n",
       "<table border=\"1\" class=\"dataframe\">\n",
       "  <thead>\n",
       "    <tr style=\"text-align: right;\">\n",
       "      <th></th>\n",
       "      <th>ID</th>\n",
       "      <th>name</th>\n",
       "      <th>category</th>\n",
       "      <th>main_category</th>\n",
       "      <th>currency</th>\n",
       "      <th>deadline</th>\n",
       "      <th>goal</th>\n",
       "      <th>launched</th>\n",
       "      <th>pledged</th>\n",
       "      <th>state</th>\n",
       "      <th>backers</th>\n",
       "      <th>country</th>\n",
       "      <th>usd pledged</th>\n",
       "      <th>usd_pledged_real</th>\n",
       "      <th>usd_goal_real</th>\n",
       "    </tr>\n",
       "  </thead>\n",
       "  <tbody>\n",
       "    <tr>\n",
       "      <th>169</th>\n",
       "      <td>1000694855</td>\n",
       "      <td>STREETFIGHTERZ WHEELIE MURICA</td>\n",
       "      <td>Film &amp; Video</td>\n",
       "      <td>Film &amp; Video</td>\n",
       "      <td>USD</td>\n",
       "      <td>2014-09-20</td>\n",
       "      <td>6500.0</td>\n",
       "      <td>2014-08-06 21:28:36</td>\n",
       "      <td>555.00</td>\n",
       "      <td>undefined</td>\n",
       "      <td>0</td>\n",
       "      <td>N,0\"</td>\n",
       "      <td>NaN</td>\n",
       "      <td>555.00</td>\n",
       "      <td>6500.00</td>\n",
       "    </tr>\n",
       "    <tr>\n",
       "      <th>328</th>\n",
       "      <td>100149523</td>\n",
       "      <td>Duncan Woods - Chameleon EP</td>\n",
       "      <td>Music</td>\n",
       "      <td>Music</td>\n",
       "      <td>AUD</td>\n",
       "      <td>2015-08-25</td>\n",
       "      <td>4500.0</td>\n",
       "      <td>2015-08-04 12:05:17</td>\n",
       "      <td>4767.00</td>\n",
       "      <td>undefined</td>\n",
       "      <td>0</td>\n",
       "      <td>N,0\"</td>\n",
       "      <td>NaN</td>\n",
       "      <td>3402.08</td>\n",
       "      <td>3211.53</td>\n",
       "    </tr>\n",
       "    <tr>\n",
       "      <th>632</th>\n",
       "      <td>1003023003</td>\n",
       "      <td>The Making of Ashley Kelley's Debut Album</td>\n",
       "      <td>Music</td>\n",
       "      <td>Music</td>\n",
       "      <td>USD</td>\n",
       "      <td>2015-04-09</td>\n",
       "      <td>3500.0</td>\n",
       "      <td>2015-03-10 20:06:13</td>\n",
       "      <td>3576.00</td>\n",
       "      <td>undefined</td>\n",
       "      <td>0</td>\n",
       "      <td>N,0\"</td>\n",
       "      <td>NaN</td>\n",
       "      <td>3576.00</td>\n",
       "      <td>3500.00</td>\n",
       "    </tr>\n",
       "    <tr>\n",
       "      <th>647</th>\n",
       "      <td>1003130892</td>\n",
       "      <td>Butter Side Down Debut Album</td>\n",
       "      <td>Music</td>\n",
       "      <td>Music</td>\n",
       "      <td>USD</td>\n",
       "      <td>2015-11-26</td>\n",
       "      <td>6000.0</td>\n",
       "      <td>2015-11-02 22:09:19</td>\n",
       "      <td>7007.80</td>\n",
       "      <td>undefined</td>\n",
       "      <td>0</td>\n",
       "      <td>N,0\"</td>\n",
       "      <td>NaN</td>\n",
       "      <td>7007.80</td>\n",
       "      <td>6000.00</td>\n",
       "    </tr>\n",
       "    <tr>\n",
       "      <th>749</th>\n",
       "      <td>1003629045</td>\n",
       "      <td>Chase Goehring debut EP</td>\n",
       "      <td>Music</td>\n",
       "      <td>Music</td>\n",
       "      <td>USD</td>\n",
       "      <td>2016-03-21</td>\n",
       "      <td>3000.0</td>\n",
       "      <td>2016-02-23 03:09:49</td>\n",
       "      <td>3660.38</td>\n",
       "      <td>undefined</td>\n",
       "      <td>0</td>\n",
       "      <td>N,0\"</td>\n",
       "      <td>NaN</td>\n",
       "      <td>3660.38</td>\n",
       "      <td>3000.00</td>\n",
       "    </tr>\n",
       "    <tr>\n",
       "      <th>...</th>\n",
       "      <td>...</td>\n",
       "      <td>...</td>\n",
       "      <td>...</td>\n",
       "      <td>...</td>\n",
       "      <td>...</td>\n",
       "      <td>...</td>\n",
       "      <td>...</td>\n",
       "      <td>...</td>\n",
       "      <td>...</td>\n",
       "      <td>...</td>\n",
       "      <td>...</td>\n",
       "      <td>...</td>\n",
       "      <td>...</td>\n",
       "      <td>...</td>\n",
       "      <td>...</td>\n",
       "    </tr>\n",
       "    <tr>\n",
       "      <th>378233</th>\n",
       "      <td>997971307</td>\n",
       "      <td>EQUUS International Film Festival®, all-equine...</td>\n",
       "      <td>Film &amp; Video</td>\n",
       "      <td>Film &amp; Video</td>\n",
       "      <td>USD</td>\n",
       "      <td>2015-02-03</td>\n",
       "      <td>7500.0</td>\n",
       "      <td>2014-12-05 04:19:14</td>\n",
       "      <td>10.00</td>\n",
       "      <td>undefined</td>\n",
       "      <td>0</td>\n",
       "      <td>N,0\"</td>\n",
       "      <td>NaN</td>\n",
       "      <td>10.00</td>\n",
       "      <td>7500.00</td>\n",
       "    </tr>\n",
       "    <tr>\n",
       "      <th>378303</th>\n",
       "      <td>998319149</td>\n",
       "      <td>Emily 2050 - Short Film</td>\n",
       "      <td>Film &amp; Video</td>\n",
       "      <td>Film &amp; Video</td>\n",
       "      <td>CAD</td>\n",
       "      <td>2014-05-23</td>\n",
       "      <td>3000.0</td>\n",
       "      <td>2014-04-08 00:30:09</td>\n",
       "      <td>3102.00</td>\n",
       "      <td>undefined</td>\n",
       "      <td>0</td>\n",
       "      <td>N,0\"</td>\n",
       "      <td>NaN</td>\n",
       "      <td>2845.61</td>\n",
       "      <td>2752.04</td>\n",
       "    </tr>\n",
       "    <tr>\n",
       "      <th>378434</th>\n",
       "      <td>9988744</td>\n",
       "      <td>Matthew Stephens Music</td>\n",
       "      <td>Music</td>\n",
       "      <td>Music</td>\n",
       "      <td>USD</td>\n",
       "      <td>2016-02-05</td>\n",
       "      <td>5000.0</td>\n",
       "      <td>2016-01-06 21:59:23</td>\n",
       "      <td>235.00</td>\n",
       "      <td>undefined</td>\n",
       "      <td>0</td>\n",
       "      <td>N,0\"</td>\n",
       "      <td>NaN</td>\n",
       "      <td>235.00</td>\n",
       "      <td>5000.00</td>\n",
       "    </tr>\n",
       "    <tr>\n",
       "      <th>378585</th>\n",
       "      <td>999610349</td>\n",
       "      <td>Lady Vendredi: Afrofuturist concept 12 inch EP</td>\n",
       "      <td>Music</td>\n",
       "      <td>Music</td>\n",
       "      <td>GBP</td>\n",
       "      <td>2015-10-19</td>\n",
       "      <td>2000.0</td>\n",
       "      <td>2015-09-21 22:33:18</td>\n",
       "      <td>2125.00</td>\n",
       "      <td>undefined</td>\n",
       "      <td>0</td>\n",
       "      <td>N,0\"</td>\n",
       "      <td>NaN</td>\n",
       "      <td>3273.36</td>\n",
       "      <td>3080.81</td>\n",
       "    </tr>\n",
       "    <tr>\n",
       "      <th>378588</th>\n",
       "      <td>999621278</td>\n",
       "      <td>Jeune auteur a besoin de vous!</td>\n",
       "      <td>Publishing</td>\n",
       "      <td>Publishing</td>\n",
       "      <td>EUR</td>\n",
       "      <td>2015-11-20</td>\n",
       "      <td>1600.0</td>\n",
       "      <td>2015-10-21 21:28:13</td>\n",
       "      <td>0.00</td>\n",
       "      <td>undefined</td>\n",
       "      <td>0</td>\n",
       "      <td>N,0\"</td>\n",
       "      <td>NaN</td>\n",
       "      <td>0.00</td>\n",
       "      <td>1710.08</td>\n",
       "    </tr>\n",
       "  </tbody>\n",
       "</table>\n",
       "<p>3797 rows × 15 columns</p>\n",
       "</div>"
      ],
      "text/plain": [
       "                ID                                               name  \\\n",
       "169     1000694855                      STREETFIGHTERZ WHEELIE MURICA   \n",
       "328      100149523                        Duncan Woods - Chameleon EP   \n",
       "632     1003023003          The Making of Ashley Kelley's Debut Album   \n",
       "647     1003130892                       Butter Side Down Debut Album   \n",
       "749     1003629045                            Chase Goehring debut EP   \n",
       "...            ...                                                ...   \n",
       "378233   997971307  EQUUS International Film Festival®, all-equine...   \n",
       "378303   998319149                            Emily 2050 - Short Film   \n",
       "378434     9988744                             Matthew Stephens Music   \n",
       "378585   999610349     Lady Vendredi: Afrofuturist concept 12 inch EP   \n",
       "378588   999621278                     Jeune auteur a besoin de vous!   \n",
       "\n",
       "            category main_category currency    deadline    goal  \\\n",
       "169     Film & Video  Film & Video      USD  2014-09-20  6500.0   \n",
       "328            Music         Music      AUD  2015-08-25  4500.0   \n",
       "632            Music         Music      USD  2015-04-09  3500.0   \n",
       "647            Music         Music      USD  2015-11-26  6000.0   \n",
       "749            Music         Music      USD  2016-03-21  3000.0   \n",
       "...              ...           ...      ...         ...     ...   \n",
       "378233  Film & Video  Film & Video      USD  2015-02-03  7500.0   \n",
       "378303  Film & Video  Film & Video      CAD  2014-05-23  3000.0   \n",
       "378434         Music         Music      USD  2016-02-05  5000.0   \n",
       "378585         Music         Music      GBP  2015-10-19  2000.0   \n",
       "378588    Publishing    Publishing      EUR  2015-11-20  1600.0   \n",
       "\n",
       "                   launched  pledged      state  backers country  usd pledged  \\\n",
       "169     2014-08-06 21:28:36   555.00  undefined        0    N,0\"          NaN   \n",
       "328     2015-08-04 12:05:17  4767.00  undefined        0    N,0\"          NaN   \n",
       "632     2015-03-10 20:06:13  3576.00  undefined        0    N,0\"          NaN   \n",
       "647     2015-11-02 22:09:19  7007.80  undefined        0    N,0\"          NaN   \n",
       "749     2016-02-23 03:09:49  3660.38  undefined        0    N,0\"          NaN   \n",
       "...                     ...      ...        ...      ...     ...          ...   \n",
       "378233  2014-12-05 04:19:14    10.00  undefined        0    N,0\"          NaN   \n",
       "378303  2014-04-08 00:30:09  3102.00  undefined        0    N,0\"          NaN   \n",
       "378434  2016-01-06 21:59:23   235.00  undefined        0    N,0\"          NaN   \n",
       "378585  2015-09-21 22:33:18  2125.00  undefined        0    N,0\"          NaN   \n",
       "378588  2015-10-21 21:28:13     0.00  undefined        0    N,0\"          NaN   \n",
       "\n",
       "        usd_pledged_real  usd_goal_real  \n",
       "169               555.00        6500.00  \n",
       "328              3402.08        3211.53  \n",
       "632              3576.00        3500.00  \n",
       "647              7007.80        6000.00  \n",
       "749              3660.38        3000.00  \n",
       "...                  ...            ...  \n",
       "378233             10.00        7500.00  \n",
       "378303           2845.61        2752.04  \n",
       "378434            235.00        5000.00  \n",
       "378585           3273.36        3080.81  \n",
       "378588              0.00        1710.08  \n",
       "\n",
       "[3797 rows x 15 columns]"
      ]
     },
     "execution_count": 28,
     "metadata": {},
     "output_type": "execute_result"
    }
   ],
   "source": [
    "ks_2018.loc[ks_2018['usd pledged'].isnull()]"
   ]
  },
  {
   "cell_type": "code",
   "execution_count": 29,
   "id": "6bad7171",
   "metadata": {},
   "outputs": [
    {
     "data": {
      "text/plain": [
       "currency  country\n",
       "AUD       AU           7839\n",
       "          NO            111\n",
       "CAD       CA          14756\n",
       "          NO            206\n",
       "CHF       CH            761\n",
       "          NO              7\n",
       "DKK       DK           1113\n",
       "          NO             16\n",
       "EUR       AT            597\n",
       "          BE            617\n",
       "          DE           4171\n",
       "          ES           2276\n",
       "          FR           2939\n",
       "          IE            811\n",
       "          IT           2878\n",
       "          LU             62\n",
       "          NL           2868\n",
       "          NO            186\n",
       "GBP       GB          33672\n",
       "          NO            460\n",
       "HKD       HK            618\n",
       "JPY       JP             40\n",
       "MXN       MX           1752\n",
       "NOK       NO            722\n",
       "NZD       NO             28\n",
       "          NZ           1447\n",
       "SEK       NO             31\n",
       "          SE           1757\n",
       "SGD       SG            555\n",
       "USD       NO           2738\n",
       "          US         292627\n",
       "Name: goal, dtype: int64"
      ]
     },
     "execution_count": 29,
     "metadata": {},
     "output_type": "execute_result"
    }
   ],
   "source": [
    "ks_2018.loc[ks_2018['usd pledged'].isnull(), ['country', 'usd pledged']] = ['NO', 0]\n",
    "\n",
    "ks_2018.groupby(['currency' , 'country'])['goal'].count()"
   ]
  },
  {
   "cell_type": "code",
   "execution_count": 31,
   "id": "497bf8c0",
   "metadata": {},
   "outputs": [
    {
     "data": {
      "text/html": [
       "<div>\n",
       "<style scoped>\n",
       "    .dataframe tbody tr th:only-of-type {\n",
       "        vertical-align: middle;\n",
       "    }\n",
       "\n",
       "    .dataframe tbody tr th {\n",
       "        vertical-align: top;\n",
       "    }\n",
       "\n",
       "    .dataframe thead th {\n",
       "        text-align: right;\n",
       "    }\n",
       "</style>\n",
       "<table border=\"1\" class=\"dataframe\">\n",
       "  <thead>\n",
       "    <tr style=\"text-align: right;\">\n",
       "      <th></th>\n",
       "      <th>ID</th>\n",
       "      <th>name</th>\n",
       "      <th>category</th>\n",
       "      <th>main_category</th>\n",
       "      <th>currency</th>\n",
       "      <th>deadline</th>\n",
       "      <th>goal</th>\n",
       "      <th>launched</th>\n",
       "      <th>pledged</th>\n",
       "      <th>state</th>\n",
       "      <th>backers</th>\n",
       "      <th>country</th>\n",
       "      <th>usd pledged</th>\n",
       "      <th>usd_pledged_real</th>\n",
       "      <th>usd_goal_real</th>\n",
       "    </tr>\n",
       "  </thead>\n",
       "  <tbody>\n",
       "    <tr>\n",
       "      <th>166851</th>\n",
       "      <td>1848699072</td>\n",
       "      <td>NaN</td>\n",
       "      <td>Narrative Film</td>\n",
       "      <td>Film &amp; Video</td>\n",
       "      <td>USD</td>\n",
       "      <td>2012-02-29</td>\n",
       "      <td>200000.0</td>\n",
       "      <td>2012-01-01 12:35:31</td>\n",
       "      <td>100.0</td>\n",
       "      <td>failed</td>\n",
       "      <td>1</td>\n",
       "      <td>US</td>\n",
       "      <td>100.00</td>\n",
       "      <td>100.00</td>\n",
       "      <td>200000.00</td>\n",
       "    </tr>\n",
       "    <tr>\n",
       "      <th>307234</th>\n",
       "      <td>634871725</td>\n",
       "      <td>NaN</td>\n",
       "      <td>Video Games</td>\n",
       "      <td>Games</td>\n",
       "      <td>GBP</td>\n",
       "      <td>2013-01-06</td>\n",
       "      <td>2000.0</td>\n",
       "      <td>2012-12-19 23:57:48</td>\n",
       "      <td>196.0</td>\n",
       "      <td>failed</td>\n",
       "      <td>12</td>\n",
       "      <td>GB</td>\n",
       "      <td>317.73</td>\n",
       "      <td>316.05</td>\n",
       "      <td>3224.97</td>\n",
       "    </tr>\n",
       "    <tr>\n",
       "      <th>309991</th>\n",
       "      <td>648853978</td>\n",
       "      <td>NaN</td>\n",
       "      <td>Product Design</td>\n",
       "      <td>Design</td>\n",
       "      <td>USD</td>\n",
       "      <td>2016-07-18</td>\n",
       "      <td>2500.0</td>\n",
       "      <td>2016-06-18 05:01:47</td>\n",
       "      <td>0.0</td>\n",
       "      <td>suspended</td>\n",
       "      <td>0</td>\n",
       "      <td>US</td>\n",
       "      <td>0.00</td>\n",
       "      <td>0.00</td>\n",
       "      <td>2500.00</td>\n",
       "    </tr>\n",
       "    <tr>\n",
       "      <th>338931</th>\n",
       "      <td>796533179</td>\n",
       "      <td>NaN</td>\n",
       "      <td>Painting</td>\n",
       "      <td>Art</td>\n",
       "      <td>USD</td>\n",
       "      <td>2011-12-05</td>\n",
       "      <td>35000.0</td>\n",
       "      <td>2011-11-06 23:55:55</td>\n",
       "      <td>220.0</td>\n",
       "      <td>failed</td>\n",
       "      <td>5</td>\n",
       "      <td>US</td>\n",
       "      <td>220.00</td>\n",
       "      <td>220.00</td>\n",
       "      <td>35000.00</td>\n",
       "    </tr>\n",
       "  </tbody>\n",
       "</table>\n",
       "</div>"
      ],
      "text/plain": [
       "                ID name        category main_category currency    deadline  \\\n",
       "166851  1848699072  NaN  Narrative Film  Film & Video      USD  2012-02-29   \n",
       "307234   634871725  NaN     Video Games         Games      GBP  2013-01-06   \n",
       "309991   648853978  NaN  Product Design        Design      USD  2016-07-18   \n",
       "338931   796533179  NaN        Painting           Art      USD  2011-12-05   \n",
       "\n",
       "            goal             launched  pledged      state  backers country  \\\n",
       "166851  200000.0  2012-01-01 12:35:31    100.0     failed        1      US   \n",
       "307234    2000.0  2012-12-19 23:57:48    196.0     failed       12      GB   \n",
       "309991    2500.0  2016-06-18 05:01:47      0.0  suspended        0      US   \n",
       "338931   35000.0  2011-11-06 23:55:55    220.0     failed        5      US   \n",
       "\n",
       "        usd pledged  usd_pledged_real  usd_goal_real  \n",
       "166851       100.00            100.00      200000.00  \n",
       "307234       317.73            316.05        3224.97  \n",
       "309991         0.00              0.00        2500.00  \n",
       "338931       220.00            220.00       35000.00  "
      ]
     },
     "execution_count": 31,
     "metadata": {},
     "output_type": "execute_result"
    }
   ],
   "source": [
    "ks_2018.loc[ks_2018['name'].isnull()]"
   ]
  },
  {
   "cell_type": "code",
   "execution_count": 32,
   "id": "be685359",
   "metadata": {},
   "outputs": [
    {
     "data": {
      "text/plain": [
       "0"
      ]
     },
     "execution_count": 32,
     "metadata": {},
     "output_type": "execute_result"
    }
   ],
   "source": [
    "ks_2018 = ks_2018.dropna(axis = 0)\n",
    "\n",
    "ks_2018['ID'].duplicated().sum()"
   ]
  },
  {
   "cell_type": "code",
   "execution_count": 33,
   "id": "c3123dc5",
   "metadata": {},
   "outputs": [],
   "source": [
    "ks_2018['source'] = 'ks 2018'"
   ]
  },
  {
   "cell_type": "code",
   "execution_count": 34,
   "id": "8c3e2a83",
   "metadata": {},
   "outputs": [],
   "source": [
    "ks_2018 = ks_2018.rename(columns={'ID' : 'id'})\n",
    "ks_2018 = ks_2018.drop(['usd_goal_real' , 'usd_pledged_real'] , axis = 1)"
   ]
  },
  {
   "cell_type": "markdown",
   "id": "19d43f65",
   "metadata": {},
   "source": [
    "## concat the two files "
   ]
  },
  {
   "cell_type": "code",
   "execution_count": 35,
   "id": "f9544dc9",
   "metadata": {},
   "outputs": [],
   "source": [
    "ks_2016 = cleaned_df"
   ]
  },
  {
   "cell_type": "code",
   "execution_count": 36,
   "id": "0a608f80",
   "metadata": {},
   "outputs": [],
   "source": [
    "df = pd.concat([ks_2016 , ks_2018])"
   ]
  },
  {
   "cell_type": "code",
   "execution_count": 37,
   "id": "b9d1e348",
   "metadata": {},
   "outputs": [
    {
     "data": {
      "text/html": [
       "<div>\n",
       "<style scoped>\n",
       "    .dataframe tbody tr th:only-of-type {\n",
       "        vertical-align: middle;\n",
       "    }\n",
       "\n",
       "    .dataframe tbody tr th {\n",
       "        vertical-align: top;\n",
       "    }\n",
       "\n",
       "    .dataframe thead th {\n",
       "        text-align: right;\n",
       "    }\n",
       "</style>\n",
       "<table border=\"1\" class=\"dataframe\">\n",
       "  <thead>\n",
       "    <tr style=\"text-align: right;\">\n",
       "      <th></th>\n",
       "      <th>id</th>\n",
       "      <th>name</th>\n",
       "      <th>category</th>\n",
       "      <th>main_category</th>\n",
       "      <th>currency</th>\n",
       "      <th>deadline</th>\n",
       "      <th>goal</th>\n",
       "      <th>launched</th>\n",
       "      <th>pledged</th>\n",
       "      <th>state</th>\n",
       "      <th>backers</th>\n",
       "      <th>country</th>\n",
       "      <th>usd pledged</th>\n",
       "      <th>source</th>\n",
       "    </tr>\n",
       "  </thead>\n",
       "  <tbody>\n",
       "    <tr>\n",
       "      <th>269970</th>\n",
       "      <td>677103185</td>\n",
       "      <td>SixSixSeven   Angels  Demons  Religion  Esoteric</td>\n",
       "      <td>Graphic Novels</td>\n",
       "      <td>Comics</td>\n",
       "      <td>USD</td>\n",
       "      <td>10/10/2015 1:00</td>\n",
       "      <td>750.0</td>\n",
       "      <td>9/10/2015 18:15</td>\n",
       "      <td>25.0</td>\n",
       "      <td>failed</td>\n",
       "      <td>1.0</td>\n",
       "      <td>US</td>\n",
       "      <td>25.0</td>\n",
       "      <td>ks 2016</td>\n",
       "    </tr>\n",
       "  </tbody>\n",
       "</table>\n",
       "</div>"
      ],
      "text/plain": [
       "               id                                              name  \\\n",
       "269970  677103185  SixSixSeven   Angels  Demons  Religion  Esoteric   \n",
       "\n",
       "              category main_category currency         deadline   goal  \\\n",
       "269970  Graphic Novels        Comics      USD  10/10/2015 1:00  750.0   \n",
       "\n",
       "               launched  pledged   state  backers country  usd pledged  \\\n",
       "269970  9/10/2015 18:15     25.0  failed      1.0      US         25.0   \n",
       "\n",
       "         source  \n",
       "269970  ks 2016  "
      ]
     },
     "execution_count": 37,
     "metadata": {},
     "output_type": "execute_result"
    }
   ],
   "source": [
    "df.head(1)"
   ]
  },
  {
   "cell_type": "code",
   "execution_count": 38,
   "id": "d986ad6c",
   "metadata": {
    "scrolled": true
   },
   "outputs": [
    {
     "data": {
      "text/plain": [
       "323746"
      ]
     },
     "execution_count": 38,
     "metadata": {},
     "output_type": "execute_result"
    }
   ],
   "source": [
    "df['id'].duplicated().sum()"
   ]
  },
  {
   "cell_type": "code",
   "execution_count": 39,
   "id": "b366df15",
   "metadata": {},
   "outputs": [],
   "source": [
    "df.drop_duplicates(subset=['id'] , inplace=True)"
   ]
  },
  {
   "cell_type": "code",
   "execution_count": 40,
   "id": "fa138581",
   "metadata": {},
   "outputs": [
    {
     "data": {
      "text/plain": [
       "(378657, 14)"
      ]
     },
     "execution_count": 40,
     "metadata": {},
     "output_type": "execute_result"
    }
   ],
   "source": [
    "df.shape"
   ]
  },
  {
   "cell_type": "code",
   "execution_count": 41,
   "id": "bc833d91",
   "metadata": {},
   "outputs": [],
   "source": [
    "df['deadline'] = pd.to_datetime(df['deadline'] , format='mixed')\n",
    "\n",
    "\n",
    "df['launched'] = pd.to_datetime(df['launched'] , format='mixed')\n"
   ]
  },
  {
   "cell_type": "code",
   "execution_count": 42,
   "id": "df164ccb",
   "metadata": {},
   "outputs": [
    {
     "name": "stdout",
     "output_type": "stream",
     "text": [
      "<class 'pandas.core.frame.DataFrame'>\n",
      "Index: 378657 entries, 269970 to 378654\n",
      "Data columns (total 14 columns):\n",
      " #   Column         Non-Null Count   Dtype         \n",
      "---  ------         --------------   -----         \n",
      " 0   id             378657 non-null  int64         \n",
      " 1   name           378657 non-null  object        \n",
      " 2   category       378657 non-null  object        \n",
      " 3   main_category  378657 non-null  object        \n",
      " 4   currency       378657 non-null  object        \n",
      " 5   deadline       378657 non-null  datetime64[ns]\n",
      " 6   goal           378657 non-null  float64       \n",
      " 7   launched       378657 non-null  datetime64[ns]\n",
      " 8   pledged        378657 non-null  float64       \n",
      " 9   state          378657 non-null  object        \n",
      " 10  backers        378657 non-null  float64       \n",
      " 11  country        378657 non-null  object        \n",
      " 12  usd pledged    378657 non-null  float64       \n",
      " 13  source         378657 non-null  object        \n",
      "dtypes: datetime64[ns](2), float64(4), int64(1), object(7)\n",
      "memory usage: 43.3+ MB\n"
     ]
    }
   ],
   "source": [
    "df.info()"
   ]
  },
  {
   "cell_type": "markdown",
   "id": "b68cd8d8",
   "metadata": {},
   "source": [
    "#### #rows per file"
   ]
  },
  {
   "cell_type": "code",
   "execution_count": 43,
   "id": "c2d4fe7d",
   "metadata": {
    "scrolled": false
   },
   "outputs": [
    {
     "data": {
      "text/plain": [
       "source\n",
       "ks 2016    323746\n",
       "ks 2018     54911\n",
       "Name: id, dtype: int64"
      ]
     },
     "execution_count": 43,
     "metadata": {},
     "output_type": "execute_result"
    }
   ],
   "source": [
    "df.groupby('source')['id'].count()"
   ]
  },
  {
   "cell_type": "markdown",
   "id": "907ed224",
   "metadata": {},
   "source": [
    "#### change wrong date"
   ]
  },
  {
   "cell_type": "code",
   "execution_count": 45,
   "id": "1a19afb5",
   "metadata": {},
   "outputs": [],
   "source": [
    "df.loc[(df['launched'].dt.year == 1970) & (df['country'] == 'US') , 'launched']= '1-1-2010'\n",
    "df.loc[(df['launched'].dt.year == 1970) & (df['country'] == 'CH') , 'launched'] = '1-1-2015'"
   ]
  },
  {
   "cell_type": "code",
   "execution_count": 46,
   "id": "adeec008",
   "metadata": {},
   "outputs": [
    {
     "data": {
      "text/html": [
       "<div>\n",
       "<style scoped>\n",
       "    .dataframe tbody tr th:only-of-type {\n",
       "        vertical-align: middle;\n",
       "    }\n",
       "\n",
       "    .dataframe tbody tr th {\n",
       "        vertical-align: top;\n",
       "    }\n",
       "\n",
       "    .dataframe thead th {\n",
       "        text-align: right;\n",
       "    }\n",
       "</style>\n",
       "<table border=\"1\" class=\"dataframe\">\n",
       "  <thead>\n",
       "    <tr style=\"text-align: right;\">\n",
       "      <th></th>\n",
       "      <th>id</th>\n",
       "      <th>name</th>\n",
       "      <th>category</th>\n",
       "      <th>main_category</th>\n",
       "      <th>currency</th>\n",
       "      <th>deadline</th>\n",
       "      <th>goal</th>\n",
       "      <th>launched</th>\n",
       "      <th>pledged</th>\n",
       "      <th>state</th>\n",
       "      <th>backers</th>\n",
       "      <th>country</th>\n",
       "      <th>usd pledged</th>\n",
       "      <th>source</th>\n",
       "    </tr>\n",
       "  </thead>\n",
       "  <tbody>\n",
       "  </tbody>\n",
       "</table>\n",
       "</div>"
      ],
      "text/plain": [
       "Empty DataFrame\n",
       "Columns: [id, name, category, main_category, currency, deadline, goal, launched, pledged, state, backers, country, usd pledged, source]\n",
       "Index: []"
      ]
     },
     "execution_count": 46,
     "metadata": {},
     "output_type": "execute_result"
    }
   ],
   "source": [
    "df.loc[df['launched'].dt.year == 1970]"
   ]
  },
  {
   "cell_type": "markdown",
   "id": "b11f81a2",
   "metadata": {},
   "source": [
    "#### find outliers"
   ]
  },
  {
   "cell_type": "code",
   "execution_count": 52,
   "id": "353c2327",
   "metadata": {},
   "outputs": [
    {
     "name": "stdout",
     "output_type": "stream",
     "text": [
      "outliters in range -19000.0 & 37000.0 for goal column\n"
     ]
    }
   ],
   "source": [
    "import numpy as np\n",
    "\n",
    "Q1 = np.quantile(df['goal'] , 0.25)\n",
    "Q3 = np.quantile(df['goal'] , 0.75)\n",
    "IQR = Q3 - Q1\n",
    "outliers = df[(df['goal']<(Q1-1.5*IQR)) | (df['goal']>(Q3+1.5*IQR))]\n",
    "\n",
    "print(f'outliters in range {Q1-1.5*IQR} & {Q3+1.5*IQR} for goal column')\n",
    "# print(Q1-1.5*IQR , end='\\n \\n')\n",
    "# print(Q3+1.5*IQR)"
   ]
  }
 ],
 "metadata": {
  "kernelspec": {
   "display_name": "Python 3 (ipykernel)",
   "language": "python",
   "name": "python3"
  },
  "language_info": {
   "codemirror_mode": {
    "name": "ipython",
    "version": 3
   },
   "file_extension": ".py",
   "mimetype": "text/x-python",
   "name": "python",
   "nbconvert_exporter": "python",
   "pygments_lexer": "ipython3",
   "version": "3.11.5"
  }
 },
 "nbformat": 4,
 "nbformat_minor": 5
}
